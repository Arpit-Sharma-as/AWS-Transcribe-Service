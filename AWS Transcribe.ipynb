{
 "cells": [
  {
   "cell_type": "code",
   "execution_count": null,
   "id": "4cd32ac9",
   "metadata": {},
   "outputs": [],
   "source": [
    "import boto3\n",
    "\n",
    "def transcribe_audio(input_audio_path):\n",
    "    transcribe_client = boto3.client('transcribe')\n",
    "\n",
    "    # Start transcription job\n",
    "    response = transcribe_client.start_transcription_job(\n",
    "        TranscriptionJobName='your-transcription-job-name',\n",
    "        LanguageCode='en-US',  # Change to the appropriate language code\n",
    "        MediaFormat='mp3',     # Change to the appropriate audio format\n",
    "        Media={\n",
    "            'MediaFileUri': f's3://your-bucket-name/{input_audio_path}'\n",
    "        }\n",
    "    )\n",
    "\n",
    "    transcription_job_name = response['TranscriptionJob']['TranscriptionJobName']\n",
    "\n",
    "    # Wait for the transcription job to complete\n",
    "    transcribe_client.get_waiter('transcription_job_completed').wait(\n",
    "        TranscriptionJobName=transcription_job_name\n",
    "    )\n",
    "\n",
    "    # Get the transcript\n",
    "    response = transcribe_client.get_transcription_job(\n",
    "        TranscriptionJobName=transcription_job_name\n",
    "    )\n",
    "    \n",
    "    transcript_uri = response['TranscriptionJob']['Transcript']['TranscriptFileUri']\n",
    "    \n",
    "    return transcript_uri\n",
    "\n",
    "def download_transcript(transcript_uri, output_text_path):\n",
    "    transcribe_client = boto3.client('s3')\n",
    "\n",
    "    # Download the transcript file\n",
    "    transcribe_client.download_file(\n",
    "        Bucket='your-bucket-name',\n",
    "        Key=transcript_uri.split('/')[-1],  # Extract the file name from the URL\n",
    "        Filename=output_text_path\n",
    "    )\n",
    "\n",
    "if __name__ == \"__main__\":\n",
    "    input_audio_path = 'path/to/your/input/audio.mp3'\n",
    "    output_text_path = 'path/to/save/output/transcript.txt'\n",
    "    \n",
    "    transcript_uri = transcribe_audio(input_audio_path)\n",
    "    download_transcript(transcript_uri, output_text_path)\n",
    "    \n",
    "    print(\"Transcription complete. Text saved to:\", output_text_path)"
   ]
  },
  {
   "cell_type": "code",
   "execution_count": null,
   "id": "56e48629",
   "metadata": {},
   "outputs": [],
   "source": []
  },
  {
   "cell_type": "code",
   "execution_count": null,
   "id": "242cb882",
   "metadata": {},
   "outputs": [],
   "source": []
  }
 ],
 "metadata": {
  "kernelspec": {
   "display_name": "Python 3 (ipykernel)",
   "language": "python",
   "name": "python3"
  },
  "language_info": {
   "codemirror_mode": {
    "name": "ipython",
    "version": 3
   },
   "file_extension": ".py",
   "mimetype": "text/x-python",
   "name": "python",
   "nbconvert_exporter": "python",
   "pygments_lexer": "ipython3",
   "version": "3.11.3"
  }
 },
 "nbformat": 4,
 "nbformat_minor": 5
}
